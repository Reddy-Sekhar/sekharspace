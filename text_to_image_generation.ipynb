{
 "cells": [
  {
   "cell_type": "markdown",
   "metadata": {
    "colab_type": "text",
    "id": "view-in-github"
   },
   "source": [
    "<a href=\"https://colab.research.google.com/github/Reddy-Sekhar/sekharspace/blob/main/text_to_image_generation.ipynb\" target=\"_parent\"><img src=\"https://colab.research.google.com/assets/colab-badge.svg\" alt=\"Open In Colab\"/></a>"
   ]
  },
  {
   "cell_type": "code",
   "execution_count": null,
   "metadata": {
    "colab": {
     "base_uri": "https://localhost:8080/"
    },
    "id": "VyuNjqUnEk7U",
    "outputId": "ca2644c8-d21a-472d-fe88-3174f0ab686e"
   },
   "outputs": [],
   "source": [
    "!pip install diffusers transformers accelerate"
   ]
  },
  {
   "cell_type": "code",
   "execution_count": null,
   "metadata": {
    "colab": {
     "base_uri": "https://localhost:8080/",
     "height": 86,
     "referenced_widgets": [
      "471ddea155c04ef2a271406c7fd3b23d",
      "534f7c8587fc413a85ee4aee7cc49dfd",
      "349827db599545aeaa3f4241ac3fbf6b",
      "74dc84cfa1c0437a9feac9d811d79a31",
      "b08d4984d6b143d3aba219e97ae85d47",
      "61837ca21b6d49158eedf578114289e9",
      "7377fc6daa5449f4878f93235b0ebceb",
      "60165fc4d03e437bbe49fd5f1cfb2aa7",
      "d38a231a02c84e65b9f799e5aa184fef",
      "0f1edea7573a4c65917c18cd57d83e89",
      "8d65cbc17dbf4daeb2d9842c5e9717e5"
     ]
    },
    "id": "mTdiPaRMExCC",
    "outputId": "118fdd87-5907-4758-c4d0-7ae72a1a4b7b"
   },
   "outputs": [],
   "source": [
    "from diffusers import StableDiffusionPipeline\n",
    "import matplotlib.pyplot as plt\n",
    "import torch"
   ]
  },
  {
   "cell_type": "code",
   "execution_count": null,
   "metadata": {
    "colab": {
     "base_uri": "https://localhost:8080/"
    },
    "id": "CbxK2GLCFEij",
    "outputId": "aa221642-640f-4740-d911-c8f76099e430"
   },
   "outputs": [],
   "source": [
    "!pip show torch"
   ]
  },
  {
   "cell_type": "code",
   "execution_count": null,
   "metadata": {
    "colab": {
     "base_uri": "https://localhost:8080/",
     "height": 49,
     "referenced_widgets": [
      "3f7af84222464cecaa0e5077d305d1c1",
      "b1a86b4d0f1647e7bc51b2e9f877b573",
      "e735cbfeeb7143498be806a20e99bae6",
      "097b814f75ea4313b5dc77c1b84c4cbb",
      "d648c2ccd1954a46b8d3f2c555e2a8b5",
      "7d2f8b26758b4925b0929108e796bd68",
      "1f751bb1d6dc409b9773c4bb7b15be6c",
      "414e8e33359e4de7b5ef677ba25fefee",
      "a1117ea01dbc4db9be6c2a8fda57b872",
      "1f87865367e54eb09560ffe36a470d19",
      "aa11a0367aca468cb1bd3ab3283884dd"
     ]
    },
    "id": "O7gros1pH0WW",
    "outputId": "2cfbaebe-6d76-451a-ea02-333f785b581d"
   },
   "outputs": [],
   "source": [
    "# Check for GPU availability\n",
    "if torch.cuda.is_available():\n",
    "    device = \"cuda\"\n",
    "else:\n",
    "    device = \"cpu\"\n",
    "\n",
    "# Load the pipeline, adjusting dtype based on device\n",
    "if device == \"cuda\":\n",
    "    pipe = StableDiffusionPipeline.from_pretrained(\n",
    "        \"CompVis/stable-diffusion-v1-4\", torch_dtype=torch.float16\n",
    "    ).to(device)\n",
    "else:\n",
    "    pipe = StableDiffusionPipeline.from_pretrained(\n",
    "        \"CompVis/stable-diffusion-v1-4\"\n",
    "    ).to(device)"
   ]
  },
  {
   "cell_type": "code",
   "execution_count": null,
   "metadata": {
    "id": "4fo37FJyIA4Z"
   },
   "outputs": [],
   "source": [
    "model_id1 = \"dreamlike-art/dreamlike-diffusion-1.0\"\n",
    "model_id2 = \"stabilityai/stable-diffusion-xl-base-1.0\"\n",
    "\n",
    "prompt = \"\"\"dreamlikeart, a grungy woman with rainbow hair, travelling between dimensions, dynamic pose, happy, soft eyes and narrow chin,\n",
    "extreme bokeh, dainty figure, long hair straight down, torn kawaii shirt and baggy jeans\n",
    "\"\"\""
   ]
  },
  {
   "cell_type": "code",
   "execution_count": null,
   "metadata": {
    "colab": {
     "base_uri": "https://localhost:8080/",
     "height": 49,
     "referenced_widgets": [
      "70169174add54309a70ce83ec7aca90c",
      "1d936900363b4da689f770c2100257a1",
      "90831c21638b4478b569cb63f6a58a00",
      "0d649a6d9f8e4921802aaa997110e748",
      "10f0ab15a3db4edcb43d1fd89b11c478",
      "a76232d2126c4b7a87ce078cf1c9d424",
      "c9b031ebdede41178cf5d27f6a035978",
      "497bff50f8454521948cc4bf83c5d3ca",
      "12d71854e9a5418282afb62dc853b820",
      "68f47d9fadc94256b16bf7f05557e5b4",
      "2778b02b64b54a3f823f50780306322c"
     ]
    },
    "id": "2z1Oqr7ZIHmL",
    "outputId": "f34672a6-8179-45e2-d8b0-b5d3aa1b0246"
   },
   "outputs": [],
   "source": [
    "image = pipe(prompt).images[0]"
   ]
  },
  {
   "cell_type": "code",
   "execution_count": null,
   "metadata": {
    "colab": {
     "base_uri": "https://localhost:8080/",
     "height": 529
    },
    "id": "160BVtJ2Fbtv",
    "outputId": "a8249ddc-fc6d-4328-9622-dc7a5e378744"
   },
   "outputs": [],
   "source": [
    "image"
   ]
  }
 ],
 "metadata": {
  "colab": {
   "authorship_tag": "ABX9TyPBgLCNuECRpdFrjErAmdWq",
   "include_colab_link": true,
   "provenance": []
  },
  "kernelspec": {
   "display_name": "Python 3",
   "name": "python3"
  },
  "language_info": {
   "name": "python"
  }
 },
 "nbformat": 4,
 "nbformat_minor": 0
}
